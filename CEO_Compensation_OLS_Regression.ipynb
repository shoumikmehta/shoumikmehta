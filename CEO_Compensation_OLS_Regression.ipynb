{
 "cells": [
  {
   "cell_type": "markdown",
   "metadata": {},
   "source": [
    "# CEO Compensation & OLS Regression\n",
    "This notebook analyzes CEO salary data and explores relationships with firm characteristics.\n"
   ]
  },
  {
   "cell_type": "code",
   "execution_count": null,
   "metadata": {},
   "outputs": [],
   "source": [
    "# Import necessary libraries\n",
    "import pandas as pd\n",
    "import numpy as np\n",
    "import matplotlib.pyplot as plt\n",
    "import seaborn as sns\n",
    "from scipy.stats.mstats import winsorize\n",
    "import statsmodels.api as sm\n",
    "import os\n",
    "\n",
    "# Create output directories if they do not exist\n",
    "os.makedirs('figures', exist_ok=True)\n",
    "os.makedirs('report', exist_ok=True)\n"
   ]
  },
  {
   "cell_type": "code",
   "execution_count": null,
   "metadata": {},
   "outputs": [],
   "source": [
    "# Load and clean datasets\n",
    "salaries = pd.read_csv('salaries_2025_s1.csv')\n",
    "companies = pd.read_csv('companies_2025_s1.csv')\n",
    "\n",
    "# Drop rows with missing key values\n",
    "salaries = salaries.dropna(subset=['CompanyID', 'CEO_Salary'])\n",
    "companies = companies.dropna(subset=['CompanyID', 'Firm_Size', 'Profitability', 'Industry'])\n",
    "\n",
    "# Merge datasets on CompanyID\n",
    "df = pd.merge(salaries, companies, on='CompanyID', how='inner')\n"
   ]
  },
  {
   "cell_type": "code",
   "execution_count": null,
   "metadata": {},
   "outputs": [],
   "source": [
    "# Summary statistics table\n",
    "summary_stats = df[['CEO_Salary', 'Firm_Size', 'Profitability']].describe()\n",
    "summary_stats\n"
   ]
  },
  {
   "cell_type": "code",
   "execution_count": null,
   "metadata": {},
   "outputs": [],
   "source": [
    "# Histogram of CEO salaries\n",
    "plt.figure(figsize=(8,6))\n",
    "sns.histplot(df['CEO_Salary'], bins=20, kde=True)\n",
    "plt.title('Distribution of CEO Salaries')\n",
    "plt.xlabel('CEO Salary')\n",
    "plt.ylabel('Frequency')\n",
    "plt.tight_layout()\n",
    "plt.savefig('figures/ceo_salary_hist.png')\n",
    "plt.close()\n"
   ]
  },
  {
   "cell_type": "code",
   "execution_count": null,
   "metadata": {},
   "outputs": [],
   "source": [
    "# Pie chart of industry distribution\n",
    "plt.figure(figsize=(8,8))\n",
    "df['Industry'].value_counts().plot.pie(autopct='%1.1f%%', startangle=90)\n",
    "plt.ylabel('')\n",
    "plt.title('Industry Distribution')\n",
    "plt.tight_layout()\n",
    "plt.savefig('figures/industry_distribution_pie.png')\n",
    "plt.close()\n"
   ]
  },
  {
   "cell_type": "code",
   "execution_count": null,
   "metadata": {},
   "outputs": [],
   "source": [
    "# Scatter plot of Firm Size vs CEO Salary\n",
    "plt.figure(figsize=(8,6))\n",
    "sns.scatterplot(x='Firm_Size', y='CEO_Salary', data=df)\n",
    "plt.title('Firm Size vs CEO Salary')\n",
    "plt.xlabel('Firm Size')\n",
    "plt.ylabel('CEO Salary')\n",
    "plt.tight_layout()\n",
    "plt.savefig('figures/firm_size_vs_ceo_salary.png')\n",
    "plt.close()\n"
   ]
  },
  {
   "cell_type": "code",
   "execution_count": null,
   "metadata": {},
   "outputs": [],
   "source": [
    "# Winsorize CEO salary at 1% tails\n",
    "df['CEO_Salary_W'] = winsorize(df['CEO_Salary'], limits=[0.01, 0.01])\n",
    "\n",
    "# Compare summary stats before and after winsorization\n",
    "pre_stats = df['CEO_Salary'].describe()\n",
    "post_stats = df['CEO_Salary_W'].describe()\n",
    "comparison = pd.DataFrame({'Before': pre_stats, 'After': post_stats})\n",
    "comparison\n"
   ]
  },
  {
   "cell_type": "code",
   "execution_count": null,
   "metadata": {},
   "outputs": [],
   "source": [
    "# OLS regression with winsorized salary\n",
    "X = df[['Firm_Size', 'Profitability']]\n",
    "X = sm.add_constant(X)\n",
    "y = df['CEO_Salary_W']\n",
    "model = sm.OLS(y, X).fit()\n",
    "print(model.summary())\n",
    "\n",
    "# Save regression summary\n",
    "with open('report/OLS_regression_summary.txt', 'w') as fh:\n",
    "    fh.write(model.summary().as_text())\n"
   ]
  }
 ],
 "metadata": {
  "kernelspec": {
   "display_name": "Python 3",
   "language": "python",
   "name": "python3"
  },
  "language_info": {
   "name": "python",
   "version": "3.10"
  }
 },
 "nbformat": 4,
 "nbformat_minor": 5
}
